import numpy as np
print("Example notebook")
